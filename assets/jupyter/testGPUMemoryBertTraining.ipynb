{
 "cells": [
  {
   "cell_type": "markdown",
   "metadata": {},
   "source": [
    "# Understand GPU Memory Usage when Training Language Models\n",
    "\n",
    "## Introduction\n",
    "\n",
    "When fine-tuning large machine learning models, it's crucial to grasp the details of GPU memory consumption to optimize the training process and avert the frequently encountered \"Cuda out of memory\" error. The substantial memory demand primarily arises from the requirement to store model parameters, gradients, and intermediate activations throughout the forward and backward passes of the training sequence. \n",
    "\n",
    "The dreaded \"Cuda out of memory\" error manifests when the GPU's available memory fails to meet the model's computational demands. Various factors can precipitate this issue, including training with excessively large batch sizes, employing a model architecture that surpasses the GPU's memory capacity, or neglecting to implement memory optimization techniques such as gradient checkpointing or mixed precision training. These practices are crucial for managing the extensive memory requirements of large models.\n",
    "\n",
    "Understanding the dynamics of GPU memory consumption is pivotal for the efficient training of models. This notebook is designed to shed light on the nuances of GPU memory usage using the example of the fine-tuning process of transformer-based models, in this case the BERT-large model. It aims to elucidate the causes behind the \"Cuda out of memory\" error and suggest when it might occur, providing valuable insights for optimizing model training and preventing memory-related setbacks.\n",
    "\n",
    "I run all tests in this notebook on an Nvidia RTX 3090 GPU with 24 GiB of memory. You can use the script to get the insights to your own GPU.\n",
    "\n",
    "## Preliminary Work\n",
    "\n",
    "We start with all needed package imports:"
   ]
  },
  {
   "cell_type": "code",
   "execution_count": 1,
   "metadata": {},
   "outputs": [],
   "source": [
    "import matplotlib.patches as patches\n",
    "import numpy as np\n",
    "from datasets import Dataset\n",
    "import torch\n",
    "from torch.profiler import ProfilerActivity\n",
    "from transformers import AutoModelForSequenceClassification\n",
    "import gc\n",
    "from pynvml import (nvmlInit,\n",
    "                    nvmlDeviceGetHandleByIndex,\n",
    "                    nvmlDeviceGetMemoryInfo)\n",
    "from transformers import TrainingArguments\n",
    "from torch.utils.data.dataloader import DataLoader\n",
    "from torch.optim import AdamW\n",
    "import pandas as pd\n",
    "import matplotlib.pyplot as plt"
   ]
  },
  {
   "cell_type": "markdown",
   "metadata": {},
   "source": [
    "We first establish a function designed to monitor and report on the GPU's memory usage. This function is critical for understanding how different phases of the training process affect memory allocation and consumption on the GPU. \n",
    "It specifically prints out three key items to provide a comprehensive overview of the current memory landscape:\n",
    "\n",
    "1. **GPU Memory Occupied**:<br>This metric reveals the actual amount of memory currently in use on the GPU. It's an essential indicator of how much memory is being utilized by all processes running on the GPU, offering insight into the available capacity for additional computations.<br>\n",
    "<br>\n",
    "2. **Reserved GPU Memory by Torch**: <br>This figure represents the memory that has been earmarked by the PyTorch framework for its operations but is not currently occupied. Although this portion of memory is not actively being used, it is set aside exclusively for PyTorch, meaning it cannot be accessed by other tools or applications. This reservation is crucial for PyTorch to efficiently manage its memory needs, ensuring there's a buffer for future data items or computations without the need to constantly request more memory from the GPU.<br>\n",
    "<br>\n",
    "3. **Allocated GPU Memory by Torch**: <br>This measurement indicates the amount of GPU memory directly occupied by PyTorch tensors at any given moment. It provides a clear view of how much memory PyTorch is actively using, which is crucial for understanding the memory footprint of your model's tensors and the impact of operations such as forward and backward passes.<br>\n",
    "\n",
    "\n",
    "It is important to recognize that there are multiple systems for defining units of digital information, which can lead to confusion. Specifically, two main systems exist:\n",
    "\n",
    "- **Units based on powers of 10:** For example, 1 kilobyte (kB) equals 1,000 bytes.\n",
    "- **Units based on powers of 2:** For example, 1 kibibyte (KiB) equals 1,024 bytes, or 2<sup>10</sup>.\n",
    "\n",
    "The distinction between these systems is critical, yet confusion often arises. For example, the term \"kB\" (a power of 10 unit) is frequently used when the intended meaning is actually \"KiB\" (a power of 2 unit). This discrepancy is evident in various applications, such as the Windows Task Manager and Nvidia's specifications for their GPUs. Example: The GPU I use is the Nvidia RTX 3090, which has 24 GiB of memory, even though Nvidia reports it as having 24 GB.\n",
    "Note: You can verify that by running the command `torch.cuda.mem_get_info()[1]`, which returns the total GPU memory for a given device.\n",
    "\n",
    "To maintain consistency and clarity within this script, I have chosen to use the power of 2 notation (e.g., KiB, MiB, GiB). This choice aims to avoid the common confusion and ensure that the memory units are accurately represented. For a more comprehensive discussion on this topic and the prevalent confusion surrounding these units, you can refer to [this article on Wikipedia](https://en.wikipedia.org/wiki/Byte)."
   ]
  },
  {
   "cell_type": "code",
   "execution_count": 2,
   "metadata": {},
   "outputs": [],
   "source": [
    "def print_gpu_utilization():\n",
    "    gc.collect()\n",
    "    torch.cuda.empty_cache()\n",
    "    nvmlInit()\n",
    "    handle = nvmlDeviceGetHandleByIndex(0)\n",
    "    info = nvmlDeviceGetMemoryInfo(handle)\n",
    "    print(\"############################################\")\n",
    "    print(\"GPU memory statistics\")\n",
    "    print(\"GPU memory occupied: \"+f\"{info.used/1024**2:.2f} MiB\".rjust(23))\n",
    "    print(\"Reserved GPU memory by torch: \" +\n",
    "          f\"{torch.cuda.memory_reserved()/1024**2:.2f} MiB\".rjust(14))\n",
    "    print(\"Allocated GPU memory by torch: \" +\n",
    "          f\"{torch.cuda.memory_allocated()/1024**2:.2f} MiB\".rjust(13))\n",
    "    print(\"############################################\\n\")"
   ]
  },
  {
   "cell_type": "markdown",
   "metadata": {},
   "source": [
    "Let's have a look on the GPU summary before we start using pytorch:"
   ]
  },
  {
   "cell_type": "code",
   "execution_count": 3,
   "metadata": {},
   "outputs": [
    {
     "name": "stdout",
     "output_type": "stream",
     "text": [
      "############################################\n",
      "GPU memory statistics\n",
      "GPU memory occupied:              895.04 MiB\n",
      "Reserved GPU memory by torch:       0.00 MiB\n",
      "Allocated GPU memory by torch:      0.00 MiB\n",
      "############################################\n",
      "\n"
     ]
    }
   ],
   "source": [
    "print_gpu_utilization()"
   ]
  },
  {
   "cell_type": "markdown",
   "metadata": {},
   "source": [
    "We see that there is already some GPU memory occupied before using pytorch at all. This is due to GPU drivers and some other background processes. Let's store that default GPU occupation to the variable `default_gpu_occupation` to be able to distinguish it later from the GPU memory occupied by pytorch:"
   ]
  },
  {
   "cell_type": "code",
   "execution_count": 4,
   "metadata": {},
   "outputs": [],
   "source": [
    "nvmlInit()\n",
    "handle = nvmlDeviceGetHandleByIndex(0)\n",
    "info = nvmlDeviceGetMemoryInfo(handle)\n",
    "default_gpu_occupation = info.used"
   ]
  },
  {
   "cell_type": "markdown",
   "metadata": {},
   "source": [
    "When using pytorch the first time, additional ~300 MiB of GPU memory will be occupied. This is due to the CUDA context, that contains the driver, CUDA kernels etc. See [here](https://github.com/pytorch/pytorch/issues/107667) for a more detailed discussion. Let's add this occupied memory to `default_gpu_occupation` too:"
   ]
  },
  {
   "cell_type": "code",
   "execution_count": 5,
   "metadata": {},
   "outputs": [],
   "source": [
    "default_gpu_occupation += 300 * 1024**2"
   ]
  },
  {
   "cell_type": "markdown",
   "metadata": {},
   "source": [
    "## Theoretical considerations\n",
    "\n",
    "Next, we will estimate the total GPU memory consumption when fine-tuning a BERT-large model. In general, there are three main drivers that occupy memory during fine-tuning:\n",
    "1. The model weights\n",
    "2. The feed-forward tensors, which are needed for future gradient calculations\n",
    "3. The gradients of the model weights\n",
    "\n",
    "We will estimate the GPU memory of all these three components.\n",
    "\n",
    "However, we start by defining the two main parameters that control the final GPU memory consumption, e.g. the batch size and and the maximum sequence length. Additionally, we load the BERT model:"
   ]
  },
  {
   "cell_type": "code",
   "execution_count": 6,
   "metadata": {},
   "outputs": [
    {
     "name": "stderr",
     "output_type": "stream",
     "text": [
      "Some weights of BertForSequenceClassification were not initialized from the model checkpoint at bert-large-uncased and are newly initialized: ['classifier.bias', 'classifier.weight']\n",
      "You should probably TRAIN this model on a down-stream task to be able to use it for predictions and inference.\n"
     ]
    }
   ],
   "source": [
    "# Define main parameters for this script\n",
    "batch_size = 4\n",
    "seq_len = 512\n",
    "mdl = AutoModelForSequenceClassification.from_pretrained(\"bert-large-uncased\")"
   ]
  },
  {
   "cell_type": "markdown",
   "metadata": {},
   "source": [
    "### Estimating GPU Memory Usage for Model Weights\n",
    "\n",
    "To accurately assess the amount of GPU memory utilized by the BERT-large model's weight tensors, it's essential to begin by examining the floating-point data type used for the weights. This examination will clarify the number of bytes required to store a single numerical value within the model's architecture:"
   ]
  },
  {
   "cell_type": "code",
   "execution_count": 7,
   "metadata": {},
   "outputs": [
    {
     "name": "stdout",
     "output_type": "stream",
     "text": [
      "\n",
      "Dtype of bert weights: torch.float32\n",
      "Number of bytes of single bert weight: 4\n"
     ]
    }
   ],
   "source": [
    "# %% Inspect dtype of BERT\n",
    "dtype = mdl.bert.embeddings.word_embeddings.weight.dtype\n",
    "print(f\"\\nDtype of bert weights: {dtype}\")\n",
    "element_size = mdl.bert.embeddings.word_embeddings.weight.element_size()\n",
    "print(f\"Number of bytes of single bert weight: {element_size}\")\n",
    "# Test if every model weight is of the same data type\n",
    "for par in mdl.parameters():\n",
    "    assert par.dtype == torch.float32"
   ]
  },
  {
   "cell_type": "markdown",
   "metadata": {},
   "source": [
    "We see that all weights of the BERT model are of type `torch.float32` which occupy 4 bytes. To estimate the total expected memory usage of the model weights, we just have to multiply the number of single numerical values with 4 bytes:"
   ]
  },
  {
   "cell_type": "code",
   "execution_count": 8,
   "metadata": {},
   "outputs": [
    {
     "name": "stdout",
     "output_type": "stream",
     "text": [
      "Expected GPU usage by storing model weigths: 1278.47 MiB\n"
     ]
    }
   ],
   "source": [
    "# %% Get expected size of BERT weights\n",
    "expected_memory_model_weights = 0\n",
    "for par in mdl.parameters():\n",
    "    expected_memory_model_weights += element_size * par.numel()\n",
    "expected_memory_model_weights = expected_memory_model_weights\n",
    "\n",
    "print(\n",
    "    f\"Expected GPU usage by storing model weigths: \"\n",
    "    f\"{expected_memory_model_weights / 1024**2:.2f} MiB\")"
   ]
  },
  {
   "cell_type": "markdown",
   "metadata": {},
   "source": [
    "When we load the model weights onto the GPU, we're assuming an additional allocation of approximately 1278.47 MiB of storage space. This increase in memory usage is relatively small, especially when you consider the GPU's total available capacity of 24 GiB.\n",
    "\n",
    "However, there's another aspect we have to consider: large PyTorch tensors can consume more GPU memory than initially anticipated (for reference, see [this discussion](https://discuss.pytorch.org/t/discrepancy-between-expected-and-actual-gpu-memory-usage-for-large-tensors/195049)).\n",
    "\n",
    "This factor only becomes relevant for the BERT model when considering its embedding weight matrix, which has dimensions of 30522 x 1024. Given this significant size, it's crucial to examine the memory implications of this tensor more closely. First, we calculate the theoretical size as before:"
   ]
  },
  {
   "cell_type": "code",
   "execution_count": 9,
   "metadata": {},
   "outputs": [],
   "source": [
    "word_embeddings_shape = mdl.bert.embeddings.word_embeddings.weight.shape\n",
    "expected_size_word_embeddings = word_embeddings_shape[0] * \\\n",
    "    word_embeddings_shape[1] * element_size"
   ]
  },
  {
   "cell_type": "markdown",
   "metadata": {},
   "source": [
    "Next, we check how much memory it actually consumes an we compare it to the expected memory:"
   ]
  },
  {
   "cell_type": "code",
   "execution_count": 10,
   "metadata": {},
   "outputs": [
    {
     "name": "stdout",
     "output_type": "stream",
     "text": [
      "Memory allocated to GPU before adding embedding weights: 0.00 MiB\n",
      "Memory allocated to GPU after adding embedding weights: 120.00 MiB\n",
      "Expected memory allocated to GPU after adding embedding weights: 119.23 MiB\n"
     ]
    }
   ],
   "source": [
    "print(\n",
    "    f\"Memory allocated to GPU before adding embedding weights: \"\n",
    "    f\"{torch.cuda.memory_allocated() / 1024**2:.2f} MiB\")\n",
    "tmp = mdl.bert.embeddings.word_embeddings.weight.to(\"cuda\")\n",
    "allocated_memory_act = torch.cuda.memory_allocated()\n",
    "print(\n",
    "    f\"Memory allocated to GPU after adding embedding weights: \"\n",
    "    f\"{torch.cuda.memory_allocated() / 1024**2:.2f} MiB\")\n",
    "print(\n",
    "    f\"Expected memory allocated to GPU after adding embedding weights: \"\n",
    "    f\"{expected_size_word_embeddings / 1024**2:.2f} MiB\")"
   ]
  },
  {
   "cell_type": "markdown",
   "metadata": {},
   "source": [
    "We noted a discrepancy of 770 KiB. We'll incorporate this difference into the `expected_memory_model_weights` variable. \n",
    "\n",
    "We'll proceed to unload these weights from the GPU. This step ensures that the coming analysis remains unaffected by previous steps."
   ]
  },
  {
   "cell_type": "code",
   "execution_count": 11,
   "metadata": {},
   "outputs": [],
   "source": [
    "additional_memory_word_embeddings = allocated_memory_act - \\\n",
    "    expected_size_word_embeddings\n",
    "expected_memory_model_weights += additional_memory_word_embeddings\n",
    "\n",
    "del tmp\n",
    "gc.collect()\n",
    "torch.cuda.empty_cache()"
   ]
  },
  {
   "cell_type": "markdown",
   "metadata": {},
   "source": [
    "Now we are done with the estimation of the GPU memory usage of the model weights."
   ]
  },
  {
   "cell_type": "markdown",
   "metadata": {},
   "source": [
    "### Assessing GPU Memory Requirements for Feedforward Tensors\n",
    "\n",
    "In the process of fine-tuning a BERT model, aside from estimating the model weights, it's essential to allocate GPU memory for the feedforward tensors as well. These tensors are critical for later computing the gradient tensors. It will become evident that the GPU memory consumption attributed to feedforward tensors significantly exceeds that of the model weights. This variance is influenced by factors such as the batch size and the maximum sequence length utilized during training.\n",
    "\n",
    "To methodically evaluate this aspect, our initial step involves creating a function designed to estimate the number of elements for all feedforward tensors. This estimation will take into account the batch size, sequence length and the specific BERT model variant in use.\n",
    "\n",
    "This is probably the most complicated function in this script, as there are many different layers when running a BERT model. I'll first introduce the different parts of that function before providing it. Note that I really only focus on the feedforward-tensors that are crucial for gradient calculation. \n",
    "\n",
    "Initially, it's imperative to gather all the essential hyperparameters associated with the BERT model, including its hidden layer sizes, intermediate sizes, and the number of hidden layers and attention heads:"
   ]
  },
  {
   "cell_type": "code",
   "execution_count": 12,
   "metadata": {},
   "outputs": [
    {
     "name": "stdout",
     "output_type": "stream",
     "text": [
      "Hidden size: 1024\n",
      "Intermediate size: 4096\n",
      "# hidden layers: 24\n",
      "# attention heads: 16\n"
     ]
    }
   ],
   "source": [
    "hidden_size = mdl.config.hidden_size\n",
    "intermediate_size = mdl.config.intermediate_size\n",
    "num_hidden_layers = mdl.config.num_hidden_layers\n",
    "num_attention_heads = mdl.config.num_attention_heads\n",
    "\n",
    "print(f\"Hidden size: {hidden_size}\")\n",
    "print(f\"Intermediate size: {intermediate_size}\")\n",
    "print(f\"# hidden layers: {num_hidden_layers}\")\n",
    "print(f\"# attention heads: {num_attention_heads}\")"
   ]
  },
  {
   "cell_type": "markdown",
   "metadata": {},
   "source": [
    "Our analysis confirms that we are indeed working with a BERT-large model, characterized by its 24 hidden (or encoder) layers, 16 attention heads, and sizes of 1024 for hidden layers and 4096 for intermediate layers, respectively.\n",
    "\n",
    "A BERT model requires three primary inputs: token IDs, token type IDs and attention masks, leading to a total input parameter count of `3 * batch_size * seq_len`. This constitutes the initial set of feedforward tensors to be allocated on GPU memory. Note that we provide only the token IDs in this script, the rest is initialized automatically by PyTorch using default values.\n",
    "\n",
    "1. **Embedding** <br>The first operation following input reception involves mapping token IDs to their corresponding token embeddings (`batch_size * seq_len * hidden_size`). Subsequently, layer normalization is applied to these embeddings. It is important to maintain not only the normalized embeddings tensor (`batch_size * seq_len * hidden_size`) but also the updated versions of the layer normalization parameters—**shift** (`batch_size * seq_len`) and **bias** (`batch_size * seq_len`)—on the GPU memory. These parameters are crucial for the computation of gradients later in the process. Lastly, a dropout operation is executed on the embeddings, necessitating the storage of its output (`batch_size * seq_len * hidden_size`) on the GPU as well."
   ]
  },
  {
   "cell_type": "markdown",
   "metadata": {},
   "source": [
    "2. **Encoder Layers**<br>\n",
    "The main block of the BERT models are its 24 encoder layers. One encoder layer can be subdivided in two blocks: a *Multi-Head Attention* block and a *Feed Forward* block. \n",
    "\n",
    "    i. **Multi-Head Attention**<br>\n",
    "    The *Multi-Head Attention* block initiates by projecting the input into *Query*, *Key*, and *Value* matrices, producing tensors with dimensions of `batch_size * seq_len * hidden_size` each. The next step involves computing the self-attention scores across all attention heads. This is achieved through calculating the pairwise dot products between all possible query and key pairings, resulting in a tensor of dimensions `num_attention_heads * batch_size * seq_len * seq_len`. Following this, softmax and dropout operations are applied to these scores, maintaining the same dimensions. The output from the softmax function is then used to create context-aware embeddings. This process involves averaging the value vectors, weighted by the softmax-derived similarities(`batch_size * seq_len * hidden_size`). These contextual embeddings are subsequently passed through a dense layer, maintaining the `batch_size * seq_len * hidden_size` dimensions. The process concludes with layer normalization and dropout being applied to these embeddings, similar to the previous stages, with the layer normalization parameters occupying `2 * batch_size * seq_len` in memory, and the dropout-modified embeddings adhering to the `batch_size * seq_len * hidden_size` dimensionality.\n",
    "\n",
    "    ii. **Feed Forward**<br>\n",
    "    The *Feed Forward* block in the encoder layer is structured around two linear feedforward layers. The initial layer transforms the embeddings from their original dimension to the `intermediate_size` and then applies a GELU activation function (`batch_size * seq_len * intermediate_size`, respectively). The second layer then scales down these expanded embeddings back to the original `hidden_size`, resulting in dimensions of `batch_size * seq_len * hidden_size`. Finally, with the same logic as before, layer normalization and dropout are applied (`2 *batch_size * seq_len * hidden_size` and `2 * batch_size * seq_len`)."
   ]
  },
  {
   "cell_type": "markdown",
   "metadata": {},
   "source": [
    "3. **Pooler**<br>The BERT pooler is a key component that prepares sequence embeddings for downstream tasks like classification by using the final hidden state of the sequence's first token ([CLS]) as a comprehensive representation. The pooler applies a dense layer to this final hidden state before passing it through a *tanh* activation (both `batch_size * hidden_size`)."
   ]
  },
  {
   "cell_type": "markdown",
   "metadata": {},
   "source": [
    "4. **Classifier**<br>\n",
    "In a final step, BERT applies a classifier which is simply again a feedforward layer with dimension 1 (we assume here a binary problem). Before that, we apply dropout. The number of parameters is therefore `batch_size * hidden_size` and `batch_size`. As we also store the targets on GPU, so another array of size `batch_size` is stored.\n",
    "\n",
    "Putting all these steps together, we get the following function that returns the number of elements for all feedforward tensors relevant for gradient calculation:"
   ]
  },
  {
   "cell_type": "code",
   "execution_count": 13,
   "metadata": {},
   "outputs": [],
   "source": [
    "def getNumElementsPerFfwTensor(batch_size, seq_len, model):\n",
    "    # Get model configurations\n",
    "    hidden_size = model.config.hidden_size\n",
    "    intermediate_size = model.config.intermediate_size\n",
    "    num_hidden_layers = model.config.num_hidden_layers\n",
    "    num_attention_heads = model.config.num_attention_heads\n",
    "\n",
    "    # Store number of elements of all tensors during forward pass\n",
    "    numel_ffw_tensors = {}\n",
    "    # Input\n",
    "    numel_ffw_tensors[\"input\"] = 3 * batch_size * seq_len\n",
    "    # Embedding\n",
    "    numel_ffw_tensors[\"embeddings_add\"] = batch_size * seq_len * hidden_size\n",
    "    numel_ffw_tensors[\"embeddings_layer_norm_bias\"] = batch_size * seq_len\n",
    "    numel_ffw_tensors[\"embeddings_layer_norm_shift\"] = batch_size * seq_len\n",
    "    numel_ffw_tensors[\"embeddings_layer_norm\"] = batch_size * \\\n",
    "        seq_len * hidden_size\n",
    "    numel_ffw_tensors[\"embeddings_dropout\"] = batch_size * \\\n",
    "        seq_len * hidden_size\n",
    "    # Encoder Layers\n",
    "    for layer_idx in range(num_hidden_layers):\n",
    "        numel_ffw_tensors[f\"layer_{layer_idx}_attention_self_query_dense\"] = \\\n",
    "            batch_size * seq_len * hidden_size\n",
    "        numel_ffw_tensors[f\"layer_{layer_idx}_attention_self_key_dense\"] = \\\n",
    "            batch_size * seq_len * hidden_size\n",
    "        numel_ffw_tensors[f\"layer_{layer_idx}_attention_self_value_dense\"] = \\\n",
    "            batch_size * seq_len * hidden_size\n",
    "        numel_ffw_tensors[f\"layer_{layer_idx}_attention_self_scores\"] = \\\n",
    "            num_attention_heads * batch_size * seq_len * seq_len\n",
    "        numel_ffw_tensors[f\"layer_{layer_idx}_attention_self_probs\"] = \\\n",
    "            num_attention_heads * batch_size * seq_len * seq_len\n",
    "        numel_ffw_tensors[\n",
    "            f\"layer_{layer_idx}_attention_self_probs_dropout\"] = \\\n",
    "            num_attention_heads * batch_size * seq_len * seq_len\n",
    "        numel_ffw_tensors[f\"layer_{layer_idx}_attention_self_context\"] = \\\n",
    "            batch_size * seq_len * hidden_size\n",
    "        numel_ffw_tensors[f\"layer_{layer_idx}_attention_output_dense\"] = \\\n",
    "            batch_size * seq_len * hidden_size\n",
    "        numel_ffw_tensors[\n",
    "            f\"layer_{layer_idx}_attention_output_layer_norm_bias\"] = \\\n",
    "            batch_size * seq_len\n",
    "        numel_ffw_tensors[\n",
    "            f\"layer_{layer_idx}_attention_output_layer_norm_shift\"] = \\\n",
    "            batch_size * seq_len\n",
    "        numel_ffw_tensors[f\"layer_{layer_idx}_attention_output_layer_norm\"] = \\\n",
    "            batch_size * seq_len * hidden_size\n",
    "        numel_ffw_tensors[f\"layer_{layer_idx}_attention_output_dropout\"] = \\\n",
    "            batch_size * seq_len * hidden_size\n",
    "        numel_ffw_tensors[f\"layer_{layer_idx}_intermediate_dense\"] = \\\n",
    "            batch_size * seq_len * intermediate_size\n",
    "        numel_ffw_tensors[f\"layer_{layer_idx}_intermediate_gelu\"] = \\\n",
    "            batch_size * seq_len * intermediate_size\n",
    "        numel_ffw_tensors[f\"layer_{layer_idx}_output_dense\"] = \\\n",
    "            batch_size * seq_len * hidden_size\n",
    "        numel_ffw_tensors[f\"layer_{layer_idx}_output_layer_norm_bias\"] = \\\n",
    "            batch_size * seq_len\n",
    "        numel_ffw_tensors[f\"layer_{layer_idx}_output_layer_norm_shift\"] = \\\n",
    "            batch_size * seq_len\n",
    "        numel_ffw_tensors[f\"layer_{layer_idx}_output_layer_norm\"] = \\\n",
    "            batch_size * seq_len * hidden_size\n",
    "        numel_ffw_tensors[f\"layer_{layer_idx}_output_dropout\"] = \\\n",
    "            batch_size * seq_len * hidden_size\n",
    "    # Pooler\n",
    "    numel_ffw_tensors[\"pooler_dense\"] = batch_size * hidden_size\n",
    "    numel_ffw_tensors[\"pooler_tanh\"] = batch_size * hidden_size\n",
    "    # Classifier\n",
    "    numel_ffw_tensors[\"dropout\"] = batch_size * hidden_size\n",
    "    numel_ffw_tensors[\"target\"] = batch_size\n",
    "    numel_ffw_tensors[\"classifier\"] = batch_size\n",
    "    return numel_ffw_tensors"
   ]
  },
  {
   "cell_type": "markdown",
   "metadata": {},
   "source": [
    "Next, we develop a function that calculates the size of each feedforward tensor by multiplying the number of elements by the element size. For most elements, the size is 4 bytes. However, dropout tensors are an exception; they use boolean arrays to indicate the positions of dropped values, requiring only one byte per element, as discussed in [this PyTorch forum thread](https://discuss.pytorch.org/t/why-does-each-torch-bool-value-take-up-an-entire-byte/183822). Our function accounts for these specifics in its computation."
   ]
  },
  {
   "cell_type": "code",
   "execution_count": 14,
   "metadata": {},
   "outputs": [],
   "source": [
    "def getExpectedMemoryPerFfwTensor(batch_size, seq_len, model, element_size):\n",
    "    # Get size per feed forward tensor\n",
    "    numel_ffw_tensors = getNumElementsPerFfwTensor(batch_size, seq_len, model)\n",
    "    expected_memory_per_ffw_tensor = {}\n",
    "    for ffw_tensor in numel_ffw_tensors:\n",
    "        if \"dropout\" in ffw_tensor:\n",
    "            expected_memory_per_ffw_tensor[ffw_tensor] = \\\n",
    "                numel_ffw_tensors[ffw_tensor]\n",
    "        else:\n",
    "            expected_memory_per_ffw_tensor[ffw_tensor] = \\\n",
    "                numel_ffw_tensors[ffw_tensor] * element_size\n",
    "    return expected_memory_per_ffw_tensor"
   ]
  },
  {
   "cell_type": "markdown",
   "metadata": {},
   "source": [
    "Lastly, we introduce a function designed to estimate the total GPU memory utilization by feedforward tensors, by combining the two functions we just defined:"
   ]
  },
  {
   "cell_type": "code",
   "execution_count": 15,
   "metadata": {},
   "outputs": [],
   "source": [
    "def getExpectedTotalMemoryFfwTensors(batch_size, seq_len, model, element_size):\n",
    "    expected_memory_per_ffw_tensor = getExpectedMemoryPerFfwTensor(\n",
    "        batch_size, seq_len, model, element_size)\n",
    "    # Calculate memory\n",
    "    expected_total_memory_ffw_tensors = sum(\n",
    "        list(expected_memory_per_ffw_tensor.values()))\n",
    "    return expected_total_memory_ffw_tensors"
   ]
  },
  {
   "cell_type": "markdown",
   "metadata": {},
   "source": [
    "Equipped with the necessary tools and methodologies, we're now prepared to precisely assess the fluctuations in GPU utilization—be it an increase or decrease—throughout each phase of fine-tuning the BERT-large model. \n",
    "\n",
    "It's important to note that our setup includes the use of an ADAM optimizer. This optimizer not only keeps track of the gradients (same dimensions as model weights) but also records their first and second-order moments (same dimensions as model weights per moment), contributing to additional memory usage. \n",
    "\n",
    "Furthermore, we initialize the cuBLAS workspace, which is essential for efficient computation but also impacts memory allocation (for more details, see [this discussion](https://discuss.pytorch.org/t/help-with-cuda-memory-allocation-during-forward-linear/190797))."
   ]
  },
  {
   "cell_type": "code",
   "execution_count": 16,
   "metadata": {},
   "outputs": [
    {
     "name": "stdout",
     "output_type": "stream",
     "text": [
      "Expected GPU usage by storing model weigths: 1279.25 MiB\n",
      "Expected GPU usage by storing gradients of model weights: 1279.25 MiB\n",
      "Expected GPU usage by storing ADAM moments: 2558.49 MiB\n",
      "Expected GPU usage by storing forward pass tensors: 6642.82 MiB\n",
      "Expected GPU usage for cuBLAS workspace: 8.12 MiB\n"
     ]
    }
   ],
   "source": [
    "print(\n",
    "    f\"Expected GPU usage by storing model weigths: \"\n",
    "    f\"{expected_memory_model_weights / 1024**2:.2f} MiB\")\n",
    "# Gradient memory\n",
    "expected_memory_gradients = expected_memory_model_weights  # Gradients\n",
    "print(\n",
    "    f\"Expected GPU usage by storing gradients of model weights: \"\n",
    "    f\"{expected_memory_gradients / 1024**2:.2f} MiB\")\n",
    "# Optimizer memory\n",
    "expected_memory_gradient_moments = 2 * \\\n",
    "    expected_memory_model_weights  # Both Adam Moments\n",
    "print(\n",
    "    f\"Expected GPU usage by storing ADAM moments: \"\n",
    "    f\"{expected_memory_gradient_moments / 1024**2:.2f} MiB\")\n",
    "# Forward pass memory\n",
    "expected_total_memory_ffw_tensors = getExpectedTotalMemoryFfwTensors(\n",
    "    batch_size, seq_len, mdl, element_size)\n",
    "print(\n",
    "    f\"Expected GPU usage by storing forward pass tensors: \"\n",
    "    f\"{expected_total_memory_ffw_tensors / 1024**2:.2f} MiB\")\n",
    "# cuBLAS workspace size\n",
    "cublas_workspace_size = 4096 * 1024 * 2 + 16 * 1024 * 8\n",
    "print(\n",
    "    f\"Expected GPU usage for cuBLAS workspace: \"\n",
    "    f\"{cublas_workspace_size / 1024**2:.2f} MiB\")"
   ]
  },
  {
   "cell_type": "markdown",
   "metadata": {},
   "source": [
    "Our analysis reveals that, given the current hyperparameter settings, the feedforward tensors theoretically account for over 6 GiB of memory usage, representing the majority of the memory consumption.\n",
    "\n",
    "Next, we will validate these theoretical insights by comparing them with the actual memory usage observed during the fine-tuning process"
   ]
  },
  {
   "cell_type": "markdown",
   "metadata": {},
   "source": [
    "## Practical implementation"
   ]
  },
  {
   "cell_type": "markdown",
   "metadata": {},
   "source": [
    "We define a lengthy yet standard function designed to facilitate the training of the BERT model across a given number of training steps (`num_iterations`). This function introduces the flexibility to adjust critical training parameters, including `batch_size`, `gradient_checkpointing`, floating-point precision (`fp16`) and `gradient_accumulation`. \n",
    "\n",
    "Additionally, it carfully logs changes in GPU memory at every significant stage of the fine-tuning process, allowing for a detailed comparison with our theoretical expectations. \n",
    "\n",
    "While the function is extensive, it adheres to conventional training practices. The main components are:\n",
    "1. Load the BERT model\n",
    "2. Create some dummy dataset\n",
    "3. Initalize a torch profiler (Profiler API that is useful when user needs to determine the most expensive operators in the model, see [here](https://pytorch.org/tutorials/recipes/recipes/profiler_recipe.html). Great visualizations available with [TensorBoard](https://pytorch.org/tutorials/intermediate/tensorboard_profiler_tutorial.html)). \n",
    "4. Initalize important objects as Dataloader and Optimizer (AdamW)\n",
    "5. Actual training consists of forward pass, backward pass for gradient calculations and optimizer step, where the weights are updated.\n",
    "\n",
    "Please note that the first iteration differs from subsequent ones for two key reasons:\n",
    "- Initially, the cuBLAS workspace undergoes initialization twice, as detailed [here](https://discuss.pytorch.org/t/help-with-cuda-memory-allocation-during-forward-linear/190797/4): once for the forward pass and again for the backward pass. After this initial setup, these workspaces remain in GPU memory and do not require reinitialization in later iterations.\n",
    "- The ADAM optimizer's moment tensors are allocated in GPU memory during the first backward pass. Once initialized, these tensors do not require reinitialization in future iterations.\n"
   ]
  },
  {
   "cell_type": "code",
   "execution_count": 17,
   "metadata": {},
   "outputs": [],
   "source": [
    "def train_bert(model_name,\n",
    "               batch_size,\n",
    "               seq_len,\n",
    "               gradient_checkpointing=False,\n",
    "               fp16=False,\n",
    "               gradient_accumulation_steps=1,\n",
    "               num_iterations=2):\n",
    "    # Load model\n",
    "    model = AutoModelForSequenceClassification.from_pretrained(\n",
    "        \"bert-large-uncased\")\n",
    "    # Create arbitrary train data\n",
    "    dataset_size = 512\n",
    "    dummy_data = {\n",
    "        \"input_ids\": np.random.randint(100, 30000, (dataset_size, seq_len)),\n",
    "        \"labels\": np.random.randint(0, 1, (dataset_size)),\n",
    "    }\n",
    "    ds = Dataset.from_dict(dummy_data)\n",
    "    ds.set_format(\"pt\")\n",
    "    with torch.profiler.profile(\n",
    "        on_trace_ready=torch.profiler.tensorboard_trace_handler('./log/bert'),\n",
    "        record_shapes=True,\n",
    "        profile_memory=True,\n",
    "        with_stack=True,\n",
    "        activities=[ProfilerActivity.CPU, ProfilerActivity.CUDA],\n",
    "    ) as prof:\n",
    "        default_args = {\n",
    "            \"output_dir\": \"tmp\",\n",
    "            \"evaluation_strategy\": \"steps\",\n",
    "            \"num_train_epochs\": 1,\n",
    "            \"log_level\": \"error\",\n",
    "            \"report_to\": \"none\",\n",
    "        }\n",
    "        training_args = TrainingArguments(\n",
    "            per_device_train_batch_size=batch_size,\n",
    "            gradient_accumulation_steps=gradient_accumulation_steps,\n",
    "            gradient_checkpointing=gradient_checkpointing,\n",
    "            fp16=fp16,\n",
    "            **default_args,\n",
    "        )\n",
    "        dataloader = DataLoader(ds,\n",
    "                                batch_size=batch_size)\n",
    "        if training_args.gradient_checkpointing:\n",
    "            model.gradient_checkpointing_enable()\n",
    "\n",
    "        # Define optimizer to AdamW\n",
    "        optimizer = AdamW(model.parameters(), lr=1e-5)\n",
    "        print(\"Put model on GPU\")\n",
    "        print(\n",
    "            f\"Expected GPU usage by storing model weigths: \"\n",
    "            f\"{expected_memory_model_weights / 1024**2:.2f} MiB\")\n",
    "        actual_occupied_memory_by_tensors = torch.cuda.memory_allocated()\n",
    "        model.to(\"cuda\")\n",
    "        mem_act = torch.cuda.memory_allocated() - \\\n",
    "            actual_occupied_memory_by_tensors\n",
    "        print(f\"Actual GPU usage by storing model weigths: \"\n",
    "              f\"{mem_act / 1024**2:.2f} MiB\")\n",
    "        actual_occupied_memory_by_tensors = torch.cuda.memory_allocated()\n",
    "        print_gpu_utilization()\n",
    "\n",
    "        # Enable train modos of model\n",
    "        model.train()\n",
    "        for step, batch in enumerate(dataloader, start=1):\n",
    "            # Need to call this at each step to\n",
    "            # notify profiler of steps' boundary.\n",
    "            prof.step()\n",
    "            if step > num_iterations:\n",
    "                break\n",
    "\n",
    "            # Get batch\n",
    "            batch = {k: batch[k].to(\"cuda\") for k in batch}\n",
    "\n",
    "            # Forward pass\n",
    "            if step == 1:\n",
    "                exp_net_additional_gpu_usage = \\\n",
    "                    expected_total_memory_ffw_tensors + cublas_workspace_size\n",
    "                print(f\"Forward pass iteration {step}\")\n",
    "                print(\"Expected additional GPU usage \"\n",
    "                      \"by storing feedforward tensors: \"\n",
    "                      f\"{expected_total_memory_ffw_tensors / 1024**2:.2f} MiB\")\n",
    "                print(f\"Expected additional GPU usage for cuBLAS workspace: \"\n",
    "                      f\"{cublas_workspace_size / 1024**2:.2f} MiB\")\n",
    "                print(f\"Expected net additional GPU usage: \"\n",
    "                      f\"{exp_net_additional_gpu_usage / 1024**2:.2f} MiB\")\n",
    "            else:\n",
    "                print(f\"Forward pass iteration {step}\")\n",
    "                print(f\"Expected net additional GPU usage: \"\n",
    "                      f\"{expected_total_memory_ffw_tensors / 1024**2:.2f} MiB\")\n",
    "            loss = model(**batch).loss\n",
    "            loss = loss / training_args.gradient_accumulation_steps\n",
    "            act_net_additional_gpu_usage = \\\n",
    "                torch.cuda.memory_allocated() - \\\n",
    "                actual_occupied_memory_by_tensors\n",
    "            print(f\"Actual net additional GPU usage: \"\n",
    "                  f\"{act_net_additional_gpu_usage / 1024**2:.2f} MiB\")\n",
    "            actual_occupied_memory_by_tensors = torch.cuda.memory_allocated()\n",
    "            print_gpu_utilization()\n",
    "\n",
    "            # Backward pass\n",
    "            if step == 1:\n",
    "                exp_net_diff_gpu_mem = \\\n",
    "                    expected_memory_gradients + cublas_workspace_size - \\\n",
    "                    expected_total_memory_ffw_tensors\n",
    "                print(f\"Backward pass iteration {step}\")\n",
    "                print(\"Expected released GPU memory by deleting ffw tensors: \"\n",
    "                      f\"{expected_total_memory_ffw_tensors / 1024**2:.2f} MiB\")\n",
    "                print(\"Expected additional GPU usage by \"\n",
    "                      \"adding weight gradients: \"\n",
    "                      f\"{expected_memory_gradients / 1024**2:.2f} MiB\")\n",
    "                print(f\"Expected additional GPU usage for cuBLAS workspace: \"\n",
    "                      f\"{cublas_workspace_size / 1024**2:.2f} MiB\")\n",
    "                print(f\"Expected net difference in GPU memory: \"\n",
    "                      f\"{exp_net_diff_gpu_mem / 1024**2:.2f} MiB\")\n",
    "            else:\n",
    "                exp_net_diff_gpu_mem = \\\n",
    "                    expected_memory_gradients - \\\n",
    "                    expected_total_memory_ffw_tensors\n",
    "                print(f\"Backward pass iteration {step}\")\n",
    "                print(\"Expected released GPU memory by deleting ffw tensors: \"\n",
    "                      f\"{expected_total_memory_ffw_tensors / 1024**2:.2f} MiB\")\n",
    "                print(\"Expected additional GPU usage \"\n",
    "                      \"by adding weight gradients: \"\n",
    "                      f\"{expected_memory_gradients / 1024**2:.2f} MiB\")\n",
    "                print(f\"Expected net difference in GPU memory: \"\n",
    "                      f\"{exp_net_diff_gpu_mem / 1024**2:.2f} MiB\")\n",
    "            loss.backward()\n",
    "            act_net_diff_gpu_mem = \\\n",
    "                torch.cuda.memory_allocated() - \\\n",
    "                actual_occupied_memory_by_tensors\n",
    "            print(f\"Actual net difference in GPU memory: \"\n",
    "                  f\"{act_net_diff_gpu_mem / 1024**2:.2f} MiB\")\n",
    "            actual_occupied_memory_by_tensors = torch.cuda.memory_allocated()\n",
    "            print_gpu_utilization()\n",
    "\n",
    "            # Optimizer step\n",
    "            if step % training_args.gradient_accumulation_steps == 0:\n",
    "                print(f\"Optimizer step iteration {step}\")\n",
    "                print(\"When called the first time, Adam's first and \"\n",
    "                      \"second moments of gradients \"\n",
    "                      \"are initialized and added to GPU memory.\")\n",
    "                if step == 1:\n",
    "                    print(\"Expected additional GPU usage by Adam moments: \"\n",
    "                          f\"{expected_memory_gradient_moments / 1024**2:.2f} \"\n",
    "                          \"MiB\")\n",
    "                else:\n",
    "                    print(\"Expected additional GPU \"\n",
    "                          \"usage by Adam moments: 0 MiB\")\n",
    "                optimizer.step()\n",
    "                act_add_gpu_mem_adam = \\\n",
    "                    torch.cuda.memory_allocated() - \\\n",
    "                    actual_occupied_memory_by_tensors\n",
    "                print(f\"Actual additional GPU usage by Adam moments: \"\n",
    "                      f\"{act_add_gpu_mem_adam / 1024**2:.2f} MiB\")\n",
    "                actual_occupied_memory_by_tensors = \\\n",
    "                    torch.cuda.memory_allocated()\n",
    "                print_gpu_utilization()\n",
    "                # Set gradients to zero\n",
    "                print(f\"Zero grad iteration {step}\")\n",
    "                print(f\"Expected released GPU memory by deleting gradients: \"\n",
    "                      f\"{expected_memory_gradients / 1024**2:.2f} MiB\")\n",
    "                optimizer.zero_grad()\n",
    "                act_rel_gpu_mem_grad = \\\n",
    "                    actual_occupied_memory_by_tensors - \\\n",
    "                    torch.cuda.memory_allocated()\n",
    "                print(f\"Actual released GPU memory by deleting gradients: \"\n",
    "                      f\"{act_rel_gpu_mem_grad / 1024**2:.2f} MiB\")\n",
    "                actual_occupied_memory_by_tensors = \\\n",
    "                    torch.cuda.memory_allocated()\n",
    "                print_gpu_utilization()"
   ]
  },
  {
   "cell_type": "markdown",
   "metadata": {},
   "source": [
    "Let's execute this function for two iterations. Beyond this point, further iterations would not provide additional insights as the GPU memory usage becomes repetitive."
   ]
  },
  {
   "cell_type": "code",
   "execution_count": 18,
   "metadata": {},
   "outputs": [
    {
     "name": "stdout",
     "output_type": "stream",
     "text": [
      "GPU utilization before training starts:\n",
      "############################################\n",
      "GPU memory statistics\n",
      "GPU memory occupied:             1628.83 MiB\n",
      "Reserved GPU memory by torch:       0.00 MiB\n",
      "Allocated GPU memory by torch:      0.00 MiB\n",
      "############################################\n",
      "\n"
     ]
    },
    {
     "name": "stderr",
     "output_type": "stream",
     "text": [
      "Some weights of BertForSequenceClassification were not initialized from the model checkpoint at bert-large-uncased and are newly initialized: ['classifier.bias', 'classifier.weight']\n",
      "You should probably TRAIN this model on a down-stream task to be able to use it for predictions and inference.\n"
     ]
    },
    {
     "name": "stdout",
     "output_type": "stream",
     "text": [
      "Put model on GPU\n",
      "Expected GPU usage by storing model weigths: 1279.25 MiB\n",
      "Actual GPU usage by storing model weigths: 1279.25 MiB\n",
      "############################################\n",
      "GPU memory statistics\n",
      "GPU memory occupied:             2923.20 MiB\n",
      "Reserved GPU memory by torch:    1290.00 MiB\n",
      "Allocated GPU memory by torch:   1279.25 MiB\n",
      "############################################\n",
      "\n",
      "Forward pass iteration 1\n",
      "Expected additional GPU usage by storing feedforward tensors: 6642.82 MiB\n",
      "Expected additional GPU usage for cuBLAS workspace: 8.12 MiB\n",
      "Expected net additional GPU usage: 6650.95 MiB\n",
      "Actual net additional GPU usage: 6650.94 MiB\n",
      "############################################\n",
      "GPU memory statistics\n",
      "GPU memory occupied:            10244.72 MiB\n",
      "Reserved GPU memory by torch:    8244.00 MiB\n",
      "Allocated GPU memory by torch:   7930.20 MiB\n",
      "############################################\n",
      "\n",
      "Backward pass iteration 1\n",
      "Expected released GPU memory by deleting ffw tensors: 6642.82 MiB\n",
      "Expected additional GPU usage by adding weight gradients: 1279.25 MiB\n",
      "Expected additional GPU usage for cuBLAS workspace: 8.12 MiB\n",
      "Expected net difference in GPU memory: -5355.45 MiB\n",
      "Actual net difference in GPU memory: -5355.43 MiB\n",
      "############################################\n",
      "GPU memory statistics\n",
      "GPU memory occupied:             4980.72 MiB\n",
      "Reserved GPU memory by torch:    2972.00 MiB\n",
      "Allocated GPU memory by torch:   2574.77 MiB\n",
      "############################################\n",
      "\n",
      "Optimizer step iteration 1\n",
      "When called the first time, Adam's first and second moments of gradients are initialized and added to GPU memory.\n",
      "Expected additional GPU usage by Adam moments: 2558.49 MiB\n",
      "Actual additional GPU usage by Adam moments: 2558.49 MiB\n",
      "############################################\n",
      "GPU memory statistics\n",
      "GPU memory occupied:             7162.72 MiB\n",
      "Reserved GPU memory by torch:    5154.00 MiB\n",
      "Allocated GPU memory by torch:   5133.26 MiB\n",
      "############################################\n",
      "\n",
      "Zero grad iteration 1\n",
      "Expected released GPU memory by deleting gradients: 1279.25 MiB\n",
      "Actual released GPU memory by deleting gradients: 1279.25 MiB\n",
      "############################################\n",
      "GPU memory statistics\n",
      "GPU memory occupied:             6002.72 MiB\n",
      "Reserved GPU memory by torch:    3994.00 MiB\n",
      "Allocated GPU memory by torch:   3854.01 MiB\n",
      "############################################\n",
      "\n",
      "Forward pass iteration 2\n",
      "Expected net additional GPU usage: 6642.82 MiB\n",
      "Actual net additional GPU usage: 6642.80 MiB\n",
      "############################################\n",
      "GPU memory statistics\n",
      "GPU memory occupied:            12934.78 MiB\n",
      "Reserved GPU memory by torch:   10926.00 MiB\n",
      "Allocated GPU memory by torch:  10496.82 MiB\n",
      "############################################\n",
      "\n",
      "Backward pass iteration 2\n",
      "Expected released GPU memory by deleting ffw tensors: 6642.82 MiB\n",
      "Expected additional GPU usage by adding weight gradients: 1279.25 MiB\n",
      "Expected net difference in GPU memory: -5363.58 MiB\n",
      "Actual net difference in GPU memory: -5363.56 MiB\n",
      "############################################\n",
      "GPU memory statistics\n",
      "GPU memory occupied:             7578.78 MiB\n",
      "Reserved GPU memory by torch:    5570.00 MiB\n",
      "Allocated GPU memory by torch:   5133.26 MiB\n",
      "############################################\n",
      "\n",
      "Optimizer step iteration 2\n",
      "When called the first time, Adam's first and second moments of gradients are initialized and added to GPU memory.\n",
      "Expected additional GPU usage by Adam moments: 0 MiB\n",
      "Actual additional GPU usage by Adam moments: 0.00 MiB\n",
      "############################################\n",
      "GPU memory statistics\n",
      "GPU memory occupied:             7578.78 MiB\n",
      "Reserved GPU memory by torch:    5570.00 MiB\n",
      "Allocated GPU memory by torch:   5133.26 MiB\n",
      "############################################\n",
      "\n",
      "Zero grad iteration 2\n",
      "Expected released GPU memory by deleting gradients: 1279.25 MiB\n",
      "Actual released GPU memory by deleting gradients: 1279.25 MiB\n",
      "############################################\n",
      "GPU memory statistics\n",
      "GPU memory occupied:             6002.78 MiB\n",
      "Reserved GPU memory by torch:    3994.00 MiB\n",
      "Allocated GPU memory by torch:   3854.01 MiB\n",
      "############################################\n",
      "\n"
     ]
    }
   ],
   "source": [
    "print(\"GPU utilization before training starts:\")\n",
    "print_gpu_utilization()\n",
    "train_bert(\"bert-large-uncased\", batch_size, seq_len)\n",
    "# %% Write function to get temporary occupation\n",
    "# of GPU memory for gradient calculations"
   ]
  },
  {
   "cell_type": "markdown",
   "metadata": {},
   "source": [
    "There we have it! We've successfully predicted the GPU consumption at every step with a very good accuracy. The deviations encountered are minimal, less than 10 KiB in most instances."
   ]
  },
  {
   "cell_type": "markdown",
   "metadata": {},
   "source": [
    "## Predicting Maximum GPU Memory Usage\n",
    "\n",
    "Identifying the peak GPU memory usage during fine-tuning is crucial for avoiding the dreaded Cuda out of memory error. To tackle this, we aim to predict the moment of highest memory occupation, which essentially helps in understanding and preventing potential memory overflow incidents.\n",
    "\n",
    "Intuitively, one might assume the memory peak occurs after the second iteration's forward pass, considering the accumulation of various tensors in the GPU memory at this point in time, including:\n",
    "1. Model weights\n",
    "2. Adam optimizer moments\n",
    "3. Feedforward tensors\n",
    "4. Double allocation of cuBLAS workspace\n",
    "\n",
    "Indeed, our observations confirm that the GPU's memory reaches its maximum following the forward pass of the second iteration. \n",
    "\n",
    "However, the absolute peak of GPU memory usage actually occures during the backpropagation of the last intermediate layer. At this critical point, while only few of the smaller feedforward tensors have been cleared, additional gradients and temporary tensors further strain the memory resources. The following function calculates that difference (don't bother too much about the actual implementation, I figured it out using the profiler):"
   ]
  },
  {
   "cell_type": "code",
   "execution_count": 19,
   "metadata": {},
   "outputs": [],
   "source": [
    "def getTempGradientCalculationMemory(batch_size,\n",
    "                                     seq_len,\n",
    "                                     model,\n",
    "                                     element_size):\n",
    "    intermediate_size = model.config.intermediate_size\n",
    "    hidden_size = model.config.hidden_size\n",
    "    gradient_caluculation_memory = \\\n",
    "        batch_size * seq_len * intermediate_size * element_size + \\\n",
    "        intermediate_size * hidden_size * element_size + \\\n",
    "        2 * batch_size * seq_len * intermediate_size + \\\n",
    "        hidden_size * hidden_size * element_size - \\\n",
    "        batch_size * seq_len * hidden_size\n",
    "    return gradient_caluculation_memory"
   ]
  },
  {
   "cell_type": "markdown",
   "metadata": {},
   "source": [
    "Now we are able to estimate the peak GPU memory usage during fine-tuning by adding:\n",
    "* Memory model weights\n",
    "* Memory adam gradient moments ( = 2 x model weights)\n",
    "* Memory feed forward tensors\n",
    "* 2 * cuBLAS workspace size\n",
    "* temporary gradient calculations (see last function)\n"
   ]
  },
  {
   "cell_type": "code",
   "execution_count": 20,
   "metadata": {},
   "outputs": [],
   "source": [
    "def getExpectedMaximumAllocatedMemory(batch_size, seq_len, model, element_size,\n",
    "                                      expected_memory_model_weights,\n",
    "                                      cublas_workspace_size):\n",
    "    expected_total_memory_ffw_tensors = getExpectedTotalMemoryFfwTensors(\n",
    "        batch_size, seq_len, model, element_size)\n",
    "    temp_grad_calc_memory = getTempGradientCalculationMemory(\n",
    "        batch_size, seq_len, model, element_size)\n",
    "    expected_max_memory_allocated = \\\n",
    "        3 * expected_memory_model_weights + \\\n",
    "        expected_total_memory_ffw_tensors + \\\n",
    "        2 * cublas_workspace_size + \\\n",
    "        temp_grad_calc_memory\n",
    "    return expected_max_memory_allocated"
   ]
  },
  {
   "cell_type": "markdown",
   "metadata": {},
   "source": [
    "Let's compare actual maximum of allocated memory during training to the expected maximum of allocated memory:"
   ]
  },
  {
   "cell_type": "code",
   "execution_count": 21,
   "metadata": {},
   "outputs": [
    {
     "name": "stdout",
     "output_type": "stream",
     "text": [
      "Expected maximum allocated memory by tensors: 10562.81 MiB\n"
     ]
    }
   ],
   "source": [
    "expected_max_memory_allocated = \\\n",
    "    getExpectedMaximumAllocatedMemory(batch_size,\n",
    "                                      seq_len,\n",
    "                                      mdl,\n",
    "                                      element_size,\n",
    "                                      expected_memory_model_weights,\n",
    "                                      cublas_workspace_size)\n",
    "print(\n",
    "    f\"Expected maximum allocated memory by tensors: \"\n",
    "    f\"{expected_max_memory_allocated / 1024**2:.2f} MiB\")"
   ]
  },
  {
   "cell_type": "markdown",
   "metadata": {},
   "source": [
    "Actual maximum allocated memory by tensors"
   ]
  },
  {
   "cell_type": "code",
   "execution_count": 22,
   "metadata": {},
   "outputs": [
    {
     "name": "stdout",
     "output_type": "stream",
     "text": [
      "Actual maximum allocated memory by tensors: 10562.79 MiB\n"
     ]
    }
   ],
   "source": [
    "actual_max_memory_allocated = torch.cuda.max_memory_allocated()\n",
    "print(\n",
    "    f\"Actual maximum allocated memory by tensors: \"\n",
    "    f\"{actual_max_memory_allocated / 1024**2:.2f} MiB\")"
   ]
  },
  {
   "cell_type": "markdown",
   "metadata": {},
   "source": [
    "Fantastic! We've successfully achieved a highly accurate prediction of the maximum GPU allocation during the fine-tuning process."
   ]
  },
  {
   "cell_type": "markdown",
   "metadata": {},
   "source": [
    "A valuable observation involves examining how the different tensors contribute proportionally to the maximum memory allocation under the current hyperparameter settings:"
   ]
  },
  {
   "cell_type": "code",
   "execution_count": 23,
   "metadata": {},
   "outputs": [
    {
     "name": "stdout",
     "output_type": "stream",
     "text": [
      "\n",
      "Proportion model weights memory, gradient moments memory and feed forward tensors memory within maximum allocated memory:\n",
      "Proportion feed forward tensors: 63%\n",
      "Proportion gradient moments: 24%\n",
      "Proportion model weights: 12%\n"
     ]
    }
   ],
   "source": [
    "print(\"\\nProportion model weights memory, gradient moments memory and \"\n",
    "      \"feed forward tensors memory within maximum allocated memory:\")\n",
    "print(\n",
    "    f\"Proportion feed forward tensors: \"\n",
    "    f\"{expected_total_memory_ffw_tensors / expected_max_memory_allocated:.0%}\")\n",
    "print(\n",
    "    f\"Proportion gradient moments: \"\n",
    "    f\"{expected_memory_gradient_moments / expected_max_memory_allocated:.0%}\")\n",
    "print(\n",
    "    f\"Proportion model weights: \"\n",
    "    f\"{expected_memory_model_weights / expected_max_memory_allocated:.0%}\")"
   ]
  },
  {
   "cell_type": "markdown",
   "metadata": {},
   "source": [
    "Once again, we observe that the feedforward tensors significantly dominate the maximum memory allocation, with their proportion increasing as batch sizes or sequence lengths expand.\n",
    "\n",
    "As a further analysis, we investigate how the maximum memory allocation changes with increasing batch size, letting the sequence length constant at 512:\n"
   ]
  },
  {
   "cell_type": "code",
   "execution_count": 24,
   "metadata": {},
   "outputs": [
    {
     "data": {
      "image/png": "[encoded data removed]",
      "text/plain": [
       "<Figure size 640x480 with 1 Axes>"
      ]
     },
     "metadata": {},
     "output_type": "display_data"
    }
   ],
   "source": [
    "batch_sizes = list(range(1, 33))\n",
    "# batch_sizes = [1,2,4,8,16,32]\n",
    "seq_len = 512\n",
    "ffw_tensor_memory_list = \\\n",
    "    [getExpectedTotalMemoryFfwTensors(bs, seq_len, mdl, element_size) / 1024**3\n",
    "     for bs in batch_sizes]\n",
    "temp_grad_calc_memory_list = \\\n",
    "    [getTempGradientCalculationMemory(bs, seq_len, mdl, element_size) / 1024**3\n",
    "     for bs in batch_sizes]\n",
    "data = {\"ffw tensors\": ffw_tensor_memory_list,\n",
    "        \"gradient moments\":\n",
    "            [expected_memory_gradient_moments / 1024**3] * len(batch_sizes),\n",
    "        \"model weights\":\n",
    "            [expected_memory_model_weights / 1024**3] * len(batch_sizes),\n",
    "        \"default GPU occup.\":\n",
    "            [default_gpu_occupation / 1024**3] * len(batch_sizes),\n",
    "        \"cublas workspace\":\n",
    "            [2 * cublas_workspace_size / 1024**3] * len(batch_sizes),\n",
    "        \"gradient calculation\": temp_grad_calc_memory_list}\n",
    "weightsPerBatchSize = pd.DataFrame(data, index=batch_sizes)\n",
    "# Create a stacked bar chart\n",
    "ax = weightsPerBatchSize.plot(kind='bar', stacked=True)\n",
    "# Adding max GPU memory as horizontal line\n",
    "max_gpu_memory = torch.cuda.mem_get_info()[1] / 1024**3\n",
    "ax.axhline(y=max_gpu_memory, color='red', linestyle='--')\n",
    "# Adding titles and labels\n",
    "plt.title(f\"Max occupied GPU memory per batch size (seq_len={seq_len})\")\n",
    "plt.xlabel('Batch size')\n",
    "plt.ylabel('Memory (GiB)')\n",
    "plt.show()"
   ]
  },
  {
   "cell_type": "markdown",
   "metadata": {},
   "source": [
    "Please note, the red dashed line represents the GPU's maximum memory capacity, which in my instance is 24 GiB. Your GPU's capacity may vary. Our analysis indicates that the largest batch size permissible for fine-tuning the BERT-large model with a sequence length of 512 is 11. You are encouraged to verify this finding with your own setup. We also see that the memory requirements (driven by the feedforward tensors) increase linearly with the batch size.\n",
    "\n",
    "Next, we do the same analysis, but this time varying the sequence length and setting the batch size to 16:"
   ]
  },
  {
   "cell_type": "code",
   "execution_count": 25,
   "metadata": {},
   "outputs": [
    {
     "data": {
      "image/png": "[encoded data removed]",
      "text/plain": [
       "<Figure size 640x480 with 1 Axes>"
      ]
     },
     "metadata": {},
     "output_type": "display_data"
    }
   ],
   "source": [
    "batch_size = 16\n",
    "sequence_lengths = list(range(128, 513, 16))\n",
    "# sequence_lengths = [16,32,64,128, 256, 512]\n",
    "ffw_tensor_memory_list = \\\n",
    "    [getExpectedTotalMemoryFfwTensors(batch_size, sl, mdl, element_size) /\n",
    "     1024**3 for sl in sequence_lengths]\n",
    "temp_grad_calc_memory_list = \\\n",
    "    [getTempGradientCalculationMemory(batch_size, sl, mdl, element_size) /\n",
    "     1024**3 for sl in sequence_lengths]\n",
    "data = {\"ffw tensors\": ffw_tensor_memory_list,\n",
    "        \"gradient moments\":\n",
    "            [expected_memory_gradient_moments /\n",
    "                1024**3] * len(sequence_lengths),\n",
    "        \"model weights\":\n",
    "            [expected_memory_model_weights / 1024**3] * len(sequence_lengths),\n",
    "        \"default GPU occup.\":\n",
    "            [default_gpu_occupation / 1024**3] * len(sequence_lengths),\n",
    "        \"cublas workspace\":\n",
    "            [2 * cublas_workspace_size / 1024**3] * len(sequence_lengths),\n",
    "        \"gradient calculation\": temp_grad_calc_memory_list}\n",
    "weightsPerSequenceLength = pd.DataFrame(data, index=sequence_lengths)\n",
    "# Create a stacked bar chart\n",
    "ax = weightsPerSequenceLength.plot(kind='bar', stacked=True)\n",
    "# Adding max GPU memory as horizontal line\n",
    "max_gpu_memory = torch.cuda.mem_get_info()[1] / 1024**3\n",
    "ax.axhline(y=max_gpu_memory, color='red', linestyle='--')\n",
    "# Adding titles and labels\n",
    "plt.title(f\"Max occupied GPU memory per sequence length (batch_size={batch_size})\")\n",
    "plt.xlabel('Sequence Length')\n",
    "plt.ylabel('Memory (GiB)')\n",
    "plt.show()"
   ]
  },
  {
   "cell_type": "markdown",
   "metadata": {},
   "source": [
    "Our findings reveal that the maximum sequence length achievable with a batch size of 16 is 416. Unlike the linear growth observed with batch size adjustments, we witness an exponential surge in GPU memory consumption as sequence length increases. This trend underscores the inherent quadratic complexity associated with expanding the context size in transformer models. The traditional transformer-style attention mechanism, which compares every token with every other token, is the primary contributor to this increased computational demand."
   ]
  },
  {
   "cell_type": "markdown",
   "metadata": {},
   "source": [
    "In conclusion, we will explore various combinations of batch sizes and sequence lengths to understand how they accommodate the available memory constraints:"
   ]
  },
  {
   "cell_type": "code",
   "execution_count": 26,
   "metadata": {},
   "outputs": [
    {
     "data": {
      "image/png": "[encoded data removed]",
      "text/plain": [
       "<Figure size 1400x1200 with 1 Axes>"
      ]
     },
     "metadata": {},
     "output_type": "display_data"
    }
   ],
   "source": [
    "batch_sizes = [4, 8, 16, 32, 64, 128]\n",
    "sequence_lengths = list(range(128, 513, 64))\n",
    "max_memory_lists = \\\n",
    "    [\n",
    "        [\n",
    "            getExpectedMaximumAllocatedMemory(bs,\n",
    "                                              sl,\n",
    "                                              mdl,\n",
    "                                              element_size,\n",
    "                                              expected_memory_model_weights,\n",
    "                                              cublas_workspace_size) / 1024**3\n",
    "            for sl in sequence_lengths]\n",
    "        for bs in batch_sizes]\n",
    "max_memory_lists = pd.DataFrame(\n",
    "    max_memory_lists,\n",
    "    index=batch_sizes,\n",
    "    columns=sequence_lengths)\n",
    "# Add efault GPU occupation\n",
    "max_memory_lists += default_gpu_occupation / 1024**3\n",
    "threshold = torch.cuda.mem_get_info()[1] / 1024**3\n",
    "\n",
    "# Function to create the plot with squares,\n",
    "# including boundary lines and axis labels\n",
    "\n",
    "def create_enhanced_square_plot(df, threshold, xlabels, ylabels):\n",
    "    # Determine the size of the plot grid\n",
    "    nrows, ncols = df.shape\n",
    "\n",
    "    # Create a figure and axis\n",
    "    fig, ax = plt.subplots(figsize=(ncols * 2, nrows * 2))\n",
    "\n",
    "    # Loop through the data and create a square for each cell\n",
    "    for i in range(nrows):\n",
    "        for j in range(ncols):\n",
    "            # Determine the color based on the threshold\n",
    "            color = 'lightgreen' if df.iloc[i,\n",
    "                                            j] <= threshold else 'lightcoral'\n",
    "\n",
    "            # Create a square with a border\n",
    "            square = patches.Rectangle(\n",
    "                (j, nrows - i - 1), 1, 1, facecolor=color, edgecolor='black')\n",
    "\n",
    "            # Add the square to the plot\n",
    "            ax.add_patch(square)\n",
    "\n",
    "            # Add the text in the middle of the square\n",
    "            text = round(df.iloc[i, j], 1)\n",
    "            ax.text(j + 0.5, nrows - i - 0.5, text,\n",
    "                    ha='center', va='center', fontsize=12)\n",
    "\n",
    "    # Set the limits and aspect of the plot\n",
    "    ax.set_xlim(0, ncols)\n",
    "    ax.set_ylim(0, nrows)\n",
    "    ax.set_aspect('equal')\n",
    "\n",
    "    # Add axis labels\n",
    "    ax.set_xticks([0.5 + i for i in range(ncols)])\n",
    "    ax.set_xticklabels(xlabels)\n",
    "    ax.set_yticks([0.5 + i for i in range(nrows)])\n",
    "    ax.set_yticklabels(ylabels[::-1])\n",
    "    ax.set_xlabel(\"Sequence length\")\n",
    "    ax.set_ylabel(\"Batch size\")\n",
    "\n",
    "    # Set title\n",
    "    ax.set_title(\n",
    "        \"Maximum allocated memory with respect to \"\n",
    "        \"sequence length and batch size (in GiB)\")\n",
    "    # Show the plot\n",
    "    plt.show()\n",
    "    \n",
    "# Apply the function to the example DataFrame\n",
    "create_enhanced_square_plot(\n",
    "    max_memory_lists, threshold, sequence_lengths, batch_sizes)"
   ]
  },
  {
   "cell_type": "markdown",
   "metadata": {},
   "source": [
    "For our final analysis, we will examine which feedforward tensor has the largest memory footprint:"
   ]
  },
  {
   "cell_type": "code",
   "execution_count": 27,
   "metadata": {},
   "outputs": [],
   "source": [
    "def memoryPerFfwTensor(batch_size, seq_len, model, element_size):\n",
    "    expected_memory_per_ffw_tensor = pd.Series(\n",
    "        getExpectedMemoryPerFfwTensor(batch_size,\n",
    "                                      seq_len,\n",
    "                                      model,\n",
    "                                      element_size)\n",
    "    )\n",
    "    # Only consider one encoder layer\n",
    "    expected_memory_per_ffw_tensor.index = \\\n",
    "        expected_memory_per_ffw_tensor.index.str.replace(\"layer_0\", \"layer\")\n",
    "    expected_memory_per_ffw_tensor = \\\n",
    "        expected_memory_per_ffw_tensor[\n",
    "            ~expected_memory_per_ffw_tensor.index.str.contains(r\"layer_\\d\")\n",
    "        ]\n",
    "    # Sort\n",
    "    expected_memory_per_ffw_tensor.sort_values(ascending=False, inplace=True)\n",
    "    # Add relative size\n",
    "    expected_memory_per_ffw_tensor = pd.DataFrame(\n",
    "        {\"Absolute Size\":\n",
    "         expected_memory_per_ffw_tensor / 1024,\n",
    "         \"Relative Size\":\n",
    "         expected_memory_per_ffw_tensor / expected_memory_per_ffw_tensor.sum(),\n",
    "         })\n",
    "    # Add cumulated values\n",
    "    expected_memory_per_ffw_tensor[\"Cumulated\"] = \\\n",
    "        expected_memory_per_ffw_tensor[\"Relative Size\"].cumsum()\n",
    "    return expected_memory_per_ffw_tensor"
   ]
  },
  {
   "cell_type": "code",
   "execution_count": 28,
   "metadata": {},
   "outputs": [
    {
     "name": "stdout",
     "output_type": "stream",
     "text": [
      "                                         Absolute Size Relative Size Cumulated\n",
      "layer_attention_self_probs                 262144.0000        21.76%    21.76%\n",
      "layer_attention_self_scores                262144.0000        21.76%    43.52%\n",
      "layer_intermediate_gelu                    131072.0000        10.88%    54.40%\n",
      "layer_intermediate_dense                   131072.0000        10.88%    65.28%\n",
      "layer_attention_self_probs_dropout          65536.0000         5.44%    70.72%\n",
      "layer_output_dense                          32768.0000         2.72%    73.44%\n",
      "layer_attention_output_layer_norm           32768.0000         2.72%    76.16%\n",
      "embeddings_add                              32768.0000         2.72%    78.88%\n",
      "layer_attention_output_dense                32768.0000         2.72%    81.60%\n",
      "layer_attention_self_context                32768.0000         2.72%    84.32%\n",
      "layer_output_layer_norm                     32768.0000         2.72%    87.04%\n",
      "layer_attention_self_value_dense            32768.0000         2.72%    89.76%\n",
      "layer_attention_self_key_dense              32768.0000         2.72%    92.48%\n",
      "layer_attention_self_query_dense            32768.0000         2.72%    95.20%\n",
      "embeddings_layer_norm                       32768.0000         2.72%    97.92%\n",
      "layer_output_dropout                         8192.0000         0.68%    98.60%\n",
      "embeddings_dropout                           8192.0000         0.68%    99.28%\n",
      "layer_attention_output_dropout               8192.0000         0.68%    99.96%\n",
      "input                                          96.0000         0.01%    99.97%\n",
      "pooler_dense                                   64.0000         0.01%    99.98%\n",
      "pooler_tanh                                    64.0000         0.01%    99.98%\n",
      "layer_output_layer_norm_shift                  32.0000         0.00%    99.99%\n",
      "layer_attention_output_layer_norm_shift        32.0000         0.00%    99.99%\n",
      "layer_output_layer_norm_bias                   32.0000         0.00%    99.99%\n",
      "layer_attention_output_layer_norm_bias         32.0000         0.00%    99.99%\n",
      "embeddings_layer_norm_shift                    32.0000         0.00%   100.00%\n",
      "embeddings_layer_norm_bias                     32.0000         0.00%   100.00%\n",
      "dropout                                        16.0000         0.00%   100.00%\n",
      "target                                          0.0625         0.00%   100.00%\n",
      "classifier                                      0.0625         0.00%   100.00%\n"
     ]
    }
   ],
   "source": [
    "expected_memory_per_ffw_tensor = memoryPerFfwTensor(\n",
    "    batch_size, seq_len, mdl, element_size)\n",
    "# Convert to percentage format\n",
    "expected_memory_per_ffw_tensor[[\"Relative Size\", \"Cumulated\"]] = \\\n",
    "    expected_memory_per_ffw_tensor[[\"Relative Size\", \"Cumulated\"]].map(\n",
    "        lambda x: f'{x:.2%}')\n",
    "print(expected_memory_per_ffw_tensor)"
   ]
  },
  {
   "cell_type": "markdown",
   "metadata": {},
   "source": [
    "Our analysis reveals that the self-attention tensors, due to their quadratic complexity, consume the most memory, accounting for over 40% of the total. They are followed by the feed-forward tensors, particularly those with intermediate-size embeddings. Notably, increasing the sequence length further amplifies the memory demand of these self-attention layers."
   ]
  },
  {
   "cell_type": "markdown",
   "metadata": {},
   "source": [
    "## Final Thoughts\n",
    "\n",
    "I've designed the BERT training script to be highly adaptable, enabling experimentation with various [established techniques](https://huggingface.co/docs/transformers/v4.18.0/en/performance) aimed at minimizing memory consumption during training, such as:\n",
    "- Gradient accumulation\n",
    "- Gradient checkpointing\n",
    "- Training with FP16 precision\n",
    "\n",
    "This methodology is not limited to BERT and can be seamlessly extended to other transformer-based models, including language models like [Mistral](https://huggingface.co/mistralai/Mistral-7B-v0.1) or [Phi-2](https://huggingface.co/microsoft/phi-2).\n",
    "\n",
    "I welcome any feedback, critiques, or suggestions you might have!\n",
    "\n",
    "With that, we conclude this blog post. Thank you for your time and interest. I look forward to our next encounter!"
   ]
  }
 ],
 "metadata": {
  "kernelspec": {
   "display_name": "Python 3 (ipykernel)",
   "language": "python",
   "name": "python3"
  },
  "language_info": {
   "codemirror_mode": {
    "name": "ipython",
    "version": 3
   },
   "file_extension": ".py",
   "mimetype": "text/x-python",
   "name": "python",
   "nbconvert_exporter": "python",
   "pygments_lexer": "ipython3",
   "version": "3.10.13"
  }
 },
 "nbformat": 4,
 "nbformat_minor": 2
}
